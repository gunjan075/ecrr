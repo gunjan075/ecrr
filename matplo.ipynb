{
 "cells": [
  {
   "cell_type": "code",
   "execution_count": 1,
   "metadata": {},
   "outputs": [
    {
     "name": "stdout",
     "output_type": "stream",
     "text": [
      "gunjan\n"
     ]
    }
   ],
   "source": [
    "print(\"gunjan\")\n",
    "x=5+6"
   ]
  },
  {
   "cell_type": "markdown",
   "metadata": {},
   "source": [
    "infinity\n",
    "# Heading 1\n",
    "## heading 2\n"
   ]
  },
  {
   "cell_type": "code",
   "execution_count": 6,
   "metadata": {},
   "outputs": [
    {
     "ename": "ModuleNotFoundError",
     "evalue": "No module named 'matplot'",
     "output_type": "error",
     "traceback": [
      "\u001b[1;31m---------------------------------------------------------------------------\u001b[0m",
      "\u001b[1;31mModuleNotFoundError\u001b[0m                       Traceback (most recent call last)",
      "\u001b[1;32m<ipython-input-6-f1a8c2695424>\u001b[0m in \u001b[0;36m<module>\u001b[1;34m()\u001b[0m\n\u001b[1;32m----> 1\u001b[1;33m \u001b[1;32mfrom\u001b[0m \u001b[0mmatplot\u001b[0m\u001b[1;33m.\u001b[0m\u001b[0mpyplot\u001b[0m \u001b[1;32mimport\u001b[0m \u001b[0mplot\u001b[0m\u001b[1;33m\u001b[0m\u001b[0m\n\u001b[0m",
      "\u001b[1;31mModuleNotFoundError\u001b[0m: No module named 'matplot'"
     ]
    }
   ],
   "source": [
    "from matplot.pyplot import plot"
   ]
  },
  {
   "cell_type": "code",
   "execution_count": 1,
   "metadata": {},
   "outputs": [
    {
     "name": "stderr",
     "output_type": "stream",
     "text": [
      "The syntax of the command is incorrect.\n"
     ]
    }
   ],
   "source": [
    "mkdir"
   ]
  },
  {
   "cell_type": "code",
   "execution_count": 2,
   "metadata": {},
   "outputs": [
    {
     "name": "stderr",
     "output_type": "stream",
     "text": [
      "The syntax of the command is incorrect.\n"
     ]
    }
   ],
   "source": [
    "!mkdir"
   ]
  },
  {
   "cell_type": "code",
   "execution_count": 3,
   "metadata": {},
   "outputs": [
    {
     "data": {
      "text/plain": [
       "'C:\\\\Users\\\\user'"
      ]
     },
     "execution_count": 3,
     "metadata": {},
     "output_type": "execute_result"
    }
   ],
   "source": [
    "pwd"
   ]
  },
  {
   "cell_type": "code",
   "execution_count": 4,
   "metadata": {},
   "outputs": [
    {
     "name": "stdout",
     "output_type": "stream",
     "text": [
      " Volume in drive C is Windows\n",
      " Volume Serial Number is 7888-8185\n",
      "\n",
      " Directory of C:\\Users\\user\n",
      "\n",
      "12/22/2018  07:17 PM    <DIR>          .\n",
      "12/22/2018  07:17 PM    <DIR>          ..\n",
      "12/16/2018  02:08 PM    <DIR>          .anaconda\n",
      "01/23/2017  03:48 PM    <DIR>          .atom\n",
      "12/16/2018  12:53 AM               114 .bash_history\n",
      "12/22/2018  07:10 PM    <DIR>          .conda\n",
      "12/16/2018  02:11 PM                43 .condarc\n",
      "01/23/2017  03:27 PM    <DIR>          .config\n",
      "12/08/2018  11:08 PM    <DIR>          .designer\n",
      "04/09/2017  06:52 PM    <DIR>          .eclipse\n",
      "05/13/2017  10:14 PM    <DIR>          .idlerc\n",
      "12/22/2018  07:17 PM    <DIR>          .ipynb_checkpoints\n",
      "12/09/2018  01:09 PM    <DIR>          .ipython\n",
      "06/16/2018  09:39 PM    <DIR>          .ivy2\n",
      "12/16/2018  02:12 PM    <DIR>          .jupyter\n",
      "06/17/2018  12:09 AM    <DIR>          .m2\n",
      "09/10/2016  04:06 PM    <DIR>          .nbi\n",
      "05/19/2018  11:37 PM    <DIR>          .p2\n",
      "05/28/2017  12:29 AM    <DIR>          .PyCharm2017.1\n",
      "06/16/2018  09:40 PM    <DIR>          .sbt\n",
      "10/10/2018  02:49 PM             2,807 .scala_history\n",
      "05/19/2018  11:18 PM    <DIR>          .scalaide\n",
      "04/09/2017  05:01 PM    <DIR>          .tooling\n",
      "12/05/2018  02:19 AM               888 .viminfo\n",
      "12/22/2018  11:20 AM    <DIR>          .VirtualBox\n",
      "12/09/2018  01:59 PM            10,770 09-Objects and Data Structures Assessment Test.ipynb\n",
      "12/15/2018  10:59 AM    <DIR>          3D Objects\n",
      "12/15/2018  07:08 PM               562 Algorithm Analysis and Big O Quiz.ipynb\n",
      "12/22/2018  07:14 PM    <DIR>          Anaconda\n",
      "12/16/2018  08:10 PM             4,930 basic_python_.ipynb\n",
      "12/15/2018  07:08 PM            13,134 Big O Examples .ipynb\n",
      "12/15/2018  07:08 PM             7,658 Big O for Python Data Structures.ipynb\n",
      "12/15/2018  07:12 PM            82,849 Big O Notation.ipynb\n",
      "09/05/2017  09:59 PM         3,211,264 CityDataContext.mdf\n",
      "09/05/2017  09:59 PM           851,968 CityDataContext_log.ldf\n",
      "12/15/2018  10:59 AM    <DIR>          Contacts\n",
      "12/15/2018  10:59 AM    <DIR>          Desktop\n",
      "12/15/2018  11:00 AM    <DIR>          Documents\n",
      "12/16/2018  07:48 PM    <DIR>          Downloads\n",
      "04/09/2017  04:32 PM    <DIR>          eclipse\n",
      "12/15/2018  10:59 AM    <DIR>          Favorites\n",
      "06/16/2018  09:40 PM    <DIR>          foo-build\n",
      "12/15/2018  07:10 PM             5,282 Introduction to Algorithm Analysis and Big O .ipynb\n",
      "06/20/2016  11:21 PM    <DIR>          JINDAL\n",
      "12/15/2018  11:00 AM    <DIR>          Links\n",
      "12/22/2018  07:10 PM             2,448 matplo.ipynb\n",
      "12/15/2018  10:59 AM    <DIR>          Music\n",
      "06/16/2018  12:04 PM    <DIR>          number as text\n",
      "12/15/2018  12:17 AM    <DIR>          OneDrive\n",
      "12/15/2018  10:59 AM    <DIR>          Pictures\n",
      "05/28/2017  12:31 AM    <DIR>          PycharmProjects\n",
      "12/09/2018  06:09 PM            12,448 python_practice.ipynb\n",
      "12/15/2018  11:00 AM    <DIR>          Saved Games\n",
      "12/15/2018  03:13 PM               526 saved_tweets.csv\n",
      "12/15/2018  10:59 AM    <DIR>          Searches\n",
      "12/16/2018  11:17 PM             9,754 sparkfss.ipynb\n",
      "12/15/2018  04:23 PM             9,018 text.py\n",
      "05/31/2016  07:23 PM    <DIR>          Tracing\n",
      "12/15/2018  12:56 AM                72 Untitled.ipynb\n",
      "12/15/2018  01:23 AM             1,480 Untitled1.ipynb\n",
      "12/15/2018  03:15 PM             8,138 Untitled2.ipynb\n",
      "12/16/2018  03:21 PM           892,003 Untitled3.ipynb\n",
      "12/16/2018  02:12 PM                72 Untitled4.ipynb\n",
      "08/11/2016  11:48 PM    <DIR>          user\n",
      "12/22/2018  12:58 AM    <DIR>          Videos\n",
      "06/03/2018  10:56 AM    <DIR>          VirtualBox VMs\n",
      "06/16/2016  08:24 AM           151,965 Welcome to SBI.pdf\n",
      "12/07/2017  10:29 PM    <DIR>          workspace\n",
      "              24 File(s)      5,280,193 bytes\n",
      "              44 Dir(s)  295,498,371,072 bytes free\n"
     ]
    }
   ],
   "source": [
    "ls"
   ]
  },
  {
   "cell_type": "code",
   "execution_count": 6,
   "metadata": {},
   "outputs": [
    {
     "name": "stderr",
     "output_type": "stream",
     "text": [
      "FIND: Parameter format not correct\n"
     ]
    }
   ],
   "source": [
    "!find . matplo.ipnyb"
   ]
  },
  {
   "cell_type": "code",
   "execution_count": 7,
   "metadata": {},
   "outputs": [
    {
     "name": "stderr",
     "output_type": "stream",
     "text": [
      "FIND: Parameter format not correct\n"
     ]
    }
   ],
   "source": [
    "!find . -name matplo.ipnyb"
   ]
  },
  {
   "cell_type": "code",
   "execution_count": 8,
   "metadata": {},
   "outputs": [
    {
     "name": "stderr",
     "output_type": "stream",
     "text": [
      "FIND: Parameter format not correct\n"
     ]
    }
   ],
   "source": [
    "!find . -name matplo*"
   ]
  },
  {
   "cell_type": "code",
   "execution_count": 9,
   "metadata": {},
   "outputs": [],
   "source": [
    "!mkdir practiceipnyb"
   ]
  },
  {
   "cell_type": "code",
   "execution_count": 10,
   "metadata": {},
   "outputs": [
    {
     "name": "stdout",
     "output_type": "stream",
     "text": [
      "C:\\Users\\user\\practiceipnyb\n"
     ]
    }
   ],
   "source": [
    "cd practiceipnyb/"
   ]
  },
  {
   "cell_type": "code",
   "execution_count": 11,
   "metadata": {},
   "outputs": [
    {
     "data": {
      "text/plain": [
       "'C:\\\\Users\\\\user\\\\practiceipnyb'"
      ]
     },
     "execution_count": 11,
     "metadata": {},
     "output_type": "execute_result"
    }
   ],
   "source": [
    "pwd"
   ]
  },
  {
   "cell_type": "code",
   "execution_count": 12,
   "metadata": {},
   "outputs": [
    {
     "data": {
      "text/plain": [
       "'C:\\\\Users\\\\user\\\\practiceipnyb'"
      ]
     },
     "execution_count": 12,
     "metadata": {},
     "output_type": "execute_result"
    }
   ],
   "source": [
    "pwd"
   ]
  },
  {
   "cell_type": "code",
   "execution_count": null,
   "metadata": {},
   "outputs": [],
   "source": []
  }
 ],
 "metadata": {
  "kernelspec": {
   "display_name": "Python 3",
   "language": "python",
   "name": "python3"
  },
  "language_info": {
   "codemirror_mode": {
    "name": "ipython",
    "version": 3
   },
   "file_extension": ".py",
   "mimetype": "text/x-python",
   "name": "python",
   "nbconvert_exporter": "python",
   "pygments_lexer": "ipython3",
   "version": "3.7.0"
  }
 },
 "nbformat": 4,
 "nbformat_minor": 2
}
